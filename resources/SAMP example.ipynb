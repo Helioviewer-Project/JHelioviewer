{
 "cells": [
  {
   "cell_type": "code",
   "execution_count": 1,
   "metadata": {
    "collapsed": false
   },
   "outputs": [
    {
     "name": "stderr",
     "output_type": "stream",
     "text": [
      "WARNING: AstropyDeprecationWarning: astropy.utils.compat.odict.OrderedDict is now deprecated - import OrderedDict from the collections module instead [astropy.utils.compat.odict]\n"
     ]
    }
   ],
   "source": [
    "import sunpy\n",
    "import sunpy.map\n",
    "from sunpy.net import vso\n",
    "\n",
    "import datetime\n",
    "from datetime import datetime\n",
    "from datetime import timedelta\n",
    "\n",
    "import numpy as np\n",
    "\n",
    "import matplotlib\n",
    "import matplotlib.pyplot as plt\n",
    "%matplotlib inline\n",
    "\n",
    "import astropy.units as u\n",
    "from astropy.io import fits\n",
    "from astropy.vo.samp import SAMPIntegratedClient"
   ]
  },
  {
   "cell_type": "code",
   "execution_count": 36,
   "metadata": {
    "collapsed": false
   },
   "outputs": [],
   "source": [
    "class VSOHandler(object):\n",
    "    def __init__(self, timestamp, observatory, instrument, detector, measurement):\n",
    "        self.timestamp = timestamp\n",
    "        self.askedTime = datetime.strptime(self.timestamp,'%Y/%m/%dT%H:%M:%S.%f')\n",
    "        \n",
    "        self.observatory = observatory\n",
    "        self.instrument = instrument\n",
    "        self.detector = detector\n",
    "        self.measurement = measurement\n",
    "        \n",
    "        self.__attr = self.__createAttr()\n",
    "        self.__client = vso.VSOClient()\n",
    "    \n",
    "    def __createAttr(self):\n",
    "        if(self.instrument == 'AIA' or\n",
    "           self.instrument == 'EIT' or \n",
    "           self.instrument == 'SWAP'):\n",
    "            return self.__createWaveAttr()\n",
    "        \n",
    "        elif(self.instrument == 'XRT'):\n",
    "            #TODO: Filter wheel not supported yet\n",
    "            return self.__createNoneAttr()\n",
    "        \n",
    "        elif(self.instrument == 'HMI'):\n",
    "            #TODO: how to query HMI\n",
    "            return self.__createPhysobsAttr()\n",
    "        \n",
    "        elif(self.instrument == 'LASCO'):\n",
    "            return self.__createDetectorAttr()\n",
    "            \n",
    "        elif(self.instrument == 'MDI'):\n",
    "            return self.__createPhysobsAttr()\n",
    "           \n",
    "        elif(self.instrument == 'SECCHI' and self.detector == 'EUVI'):\n",
    "            return self.__createFullAttr()\n",
    "        \n",
    "        elif(self.instrument == 'SECCHI'):\n",
    "            return self.__createSecchiAttr()\n",
    "        \n",
    "        elif(self.instrument == 'TRACE'):\n",
    "            #TODO: trace\n",
    "            return self.__createWaveAttr()\n",
    "        \n",
    "        elif(self.instrument == 'SXT'):\n",
    "            #TODO: sxt\n",
    "            return self.__createNoneAttr()\n",
    "            \n",
    "            \n",
    "    def __createWaveAttr(self):\n",
    "        wave = int(self.measurement)\n",
    "        return (vso.attrs.Instrument(self.instrument) \n",
    "                & vso.attrs.Wave(wave * u.AA, wave * u.AA))\n",
    "    \n",
    "    def __createDetectorAttr(self):\n",
    "        return (vso.attrs.Instrument(self.instrument)\n",
    "               & vso.attrs.Detector(self.detector))\n",
    "    \n",
    "    def __createPhysobsAttr(self):\n",
    "        obs = self.measurement\n",
    "        #TODO: \n",
    "        if (obs == 'CONTINUUM INTENSITY' or obs == 'FD_Continuum'):\n",
    "            obs = 'intensity'\n",
    "        elif (obs == 'MAGNETOGRAMM' or obs == 'FD_Magnetogram'):\n",
    "            obs = 'LOS_magnetic_field'\n",
    "        return (vso.attrs.Instrument(self.instrument)\n",
    "               & vso.attrs.Physobs(obs))\n",
    "    \n",
    "    def __createSecchiAttr(self):\n",
    "        return (vso.attrs.Instrument(self.instrument)\n",
    "               & vso.attrs.Source(self.observatory)\n",
    "               & vso.attrs.Detector(self.detector))\n",
    "    \n",
    "    def __createFullAttr(self):\n",
    "        wave = int(self.measurement)\n",
    "        return (vso.attrs.Instrument(self.instrument)\n",
    "               & vso.attrs.Source(self.observatory)\n",
    "               & vso.attrs.Detector(self.detector)\n",
    "               & vso.attrs.Wave(wave * u.AA, wave * u.AA))\n",
    "    \n",
    "    def __createNoneAttr(self):\n",
    "        return vso.attrs.Instrument(self.instrument)\n",
    "        \n",
    "    def createQuery(self, deltaFrom=timedelta(minutes = 2), deltaTo=timedelta(seconds=0)):        \n",
    "        self.query = self.__client.query(\n",
    "            vso.attrs.Time(self.askedTime - deltaFrom , self.askedTime + deltaTo),\n",
    "            self.__attr)\n",
    "        return self.query\n",
    "    \n",
    "    def createQuerySingleResult(self):          \n",
    "        deltaFromCur = timedelta(minutes = 2)\n",
    "        deltaFromMin = timedelta(seconds = 0)\n",
    "        \n",
    "        # images are usually stored all 3 minutes\n",
    "        # unless something interesting happens, then it is every 3 seconds\n",
    "        self.createQuery(deltaFrom = deltaFromCur)\n",
    "        \n",
    "        if(len(self.query) > 1):\n",
    "            self.createQuery(deltaFrom = timedelta(seconds=5))\n",
    "            if(len(self.query) > 1):\n",
    "                deltaFromCur = timedelta(seconds=5)\n",
    "        \n",
    "        counter = 0\n",
    "        while(len(self.query) != 1 and counter <= 10):\n",
    "            \n",
    "            if(len(self.query) < 1):\n",
    "                deltaFromMin = deltaFromCur\n",
    "                deltaFromCur = deltaFromCur * 2\n",
    "            else:\n",
    "                deltaFromCur = (deltaFromMin + deltaFromCur)/2\n",
    "            self.createQuery(deltaFrom = deltaFromCur)\n",
    "            counter = counter+1\n",
    "        return self.query\n",
    "    \n",
    "    def showQuery(self):\n",
    "        print(self.query)\n",
    "    \n",
    "    def showData(self):\n",
    "        self.files = self.__client.get(self.query, path='/Data/{instrument}/{file}.fits').wait()\n",
    "        self.smap = list()\n",
    "                    \n",
    "        for file in self.files:\n",
    "            curMap = sunpy.map.Map(file)\n",
    "            self.smap.append(curMap)\n",
    "            plt.figure(figsize=(15,15))\n",
    "\n",
    "            curMap.plot()\n",
    "            curMap.draw_limb()\n",
    "\n",
    "            plt.colorbar()\n",
    "            plt.show()\n",
    "        \n",
    "        \n",
    "        #self.hdu_list = fits.open(files[0])\n",
    "        #self.hdu_list.info()\n",
    "        #self.image_data = hdu_list[0].data\n",
    "        #self.hdu_list.close()\n",
    "        #del(self.hdu_list)\n",
    "        \n",
    "        #fig = plt.figure(figsize=(20,20))\n",
    "        #fig.imshow(self.image_data)\n",
    "        #fig.colorbar()"
   ]
  },
  {
   "cell_type": "code",
   "execution_count": 37,
   "metadata": {
    "collapsed": true
   },
   "outputs": [],
   "source": [
    "class Receiver(object):\n",
    "    def __init__(self, client):\n",
    "        self.client = client\n",
    "        self.received = False\n",
    "    def receive_call(self, private_key, sender_id, msg_id, mtype, params, extra):\n",
    "        self.params = params\n",
    "        self.received = True\n",
    "        self.client.reply(msg_id, {\"samp.status\": \"samp.ok\", \"samp.result\": {}})\n",
    "    def receive_notification(self, private_key, sender_id, mtype, params, extra):\n",
    "        self.params = params\n",
    "        self.received = True\n",
    "    \n",
    "    def createHandler(self):\n",
    "        if self.received:\n",
    "            timestamp = self.params['timestamp']\n",
    "            observatory = self.params['observatory']\n",
    "            instrument = self.params['instrument']\n",
    "            detector = self.params['detector']\n",
    "            measurement = self.params['measurement']\n",
    "            \n",
    "            self.received = False \n",
    "            \n",
    "            handler = VSOHandler(timestamp, observatory, instrument, detector, measurement)\n",
    "            \n",
    "            return handler"
   ]
  },
  {
   "cell_type": "code",
   "execution_count": 38,
   "metadata": {
    "collapsed": false
   },
   "outputs": [],
   "source": [
    "client = SAMPIntegratedClient()\n",
    "client.connect()\n",
    "\n",
    "r = Receiver(client)\n",
    "client.bind_receive_call(\"jhv.vso.load\", r.receive_call)\n",
    "client.bind_receive_notification(\"jhv.vso.load\", r.receive_notification)"
   ]
  },
  {
   "cell_type": "code",
   "execution_count": 46,
   "metadata": {
    "collapsed": false
   },
   "outputs": [
    {
     "data": {
      "text/plain": [
       "True"
      ]
     },
     "execution_count": 46,
     "metadata": {},
     "output_type": "execute_result"
    }
   ],
   "source": [
    "r.received"
   ]
  },
  {
   "cell_type": "code",
   "execution_count": 51,
   "metadata": {
    "collapsed": false
   },
   "outputs": [],
   "source": [
    "# We test every 0.1s to see if the hub has sent a message\n",
    "import time\n",
    "while True:\n",
    "    time.sleep(0.1)\n",
    "    if r.received:\n",
    "        handler = r.createHandler()\n",
    "        break"
   ]
  },
  {
   "cell_type": "code",
   "execution_count": 52,
   "metadata": {
    "collapsed": false
   },
   "outputs": [
    {
     "name": "stdout",
     "output_type": "stream",
     "text": [
      "Time: \t\t2017/04/02T12:57:45.350\n",
      "Observatory: \tSDO\n",
      "Instrument: \tAIA\n",
      "Detector: \t\n",
      "Measurement: \t171\n"
     ]
    }
   ],
   "source": [
    "print('Time: \\t\\t' + handler.timestamp)\n",
    "print('Observatory: \\t' + handler.observatory)\n",
    "print('Instrument: \\t' + handler.instrument)\n",
    "print('Detector: \\t' + handler.detector)\n",
    "print('Measurement: \\t' + handler.measurement)"
   ]
  },
  {
   "cell_type": "code",
   "execution_count": 53,
   "metadata": {
    "collapsed": false
   },
   "outputs": [
    {
     "data": {
      "text/html": [
       "&lt;Table length=1&gt;\n",
       "<table id=\"table2343295167680\" class=\"table-striped table-bordered table-condensed\">\n",
       "<thead><tr><th>Start Time [1]</th><th>End Time [1]</th><th>Source</th><th>Instrument</th><th>Type</th></tr></thead>\n",
       "<thead><tr><th>str19</th><th>str19</th><th>str3</th><th>str3</th><th>str8</th></tr></thead>\n",
       "<tr><td>2017-04-02 12:57:45</td><td>2017-04-02 12:57:46</td><td>SDO</td><td>AIA</td><td>FULLDISK</td></tr>\n",
       "</table>"
      ],
      "text/plain": [
       "<Table length=1>\n",
       "   Start Time [1]       End Time [1]    Source Instrument   Type  \n",
       "       str19               str19         str3     str3      str8  \n",
       "------------------- ------------------- ------ ---------- --------\n",
       "2017-04-02 12:57:45 2017-04-02 12:57:46    SDO        AIA FULLDISK"
      ]
     },
     "execution_count": 53,
     "metadata": {},
     "output_type": "execute_result"
    }
   ],
   "source": [
    "handler.createQuery(timedelta(seconds=10), timedelta(seconds=5))"
   ]
  },
  {
   "cell_type": "code",
   "execution_count": 49,
   "metadata": {
    "collapsed": false
   },
   "outputs": [
    {
     "data": {
      "text/html": [
       "&lt;Table length=1&gt;\n",
       "<table id=\"table2343295165552\" class=\"table-striped table-bordered table-condensed\">\n",
       "<thead><tr><th>Start Time [1]</th><th>End Time [1]</th><th>Source</th><th>Instrument</th><th>Type</th></tr></thead>\n",
       "<thead><tr><th>str19</th><th>str19</th><th>str3</th><th>str3</th><th>str8</th></tr></thead>\n",
       "<tr><td>2016-01-01 12:49:58</td><td>2016-01-01 12:49:59</td><td>SDO</td><td>AIA</td><td>FULLDISK</td></tr>\n",
       "</table>"
      ],
      "text/plain": [
       "<Table length=1>\n",
       "   Start Time [1]       End Time [1]    Source Instrument   Type  \n",
       "       str19               str19         str3     str3      str8  \n",
       "------------------- ------------------- ------ ---------- --------\n",
       "2016-01-01 12:49:58 2016-01-01 12:49:59    SDO        AIA FULLDISK"
      ]
     },
     "execution_count": 49,
     "metadata": {},
     "output_type": "execute_result"
    }
   ],
   "source": [
    "handler.createQuerySingleResult()"
   ]
  },
  {
   "cell_type": "code",
   "execution_count": 50,
   "metadata": {
    "collapsed": false
   },
   "outputs": [],
   "source": [
    "handler.showData()"
   ]
  },
  {
   "cell_type": "code",
   "execution_count": 8,
   "metadata": {
    "collapsed": false
   },
   "outputs": [
    {
     "data": {
      "text/plain": [
       "array([[939, 941, 944, ..., 916, 919, 897],\n",
       "       [932, 933, 940, ..., 909, 912, 899],\n",
       "       [884, 891, 888, ..., 864, 858, 848],\n",
       "       ..., \n",
       "       [867, 867, 874, ..., 880, 878, 849],\n",
       "       [865, 868, 869, ..., 884, 878, 849],\n",
       "       [873, 872, 868, ..., 884, 888, 849]], dtype=int16)"
      ]
     },
     "execution_count": 8,
     "metadata": {},
     "output_type": "execute_result"
    }
   ],
   "source": [
    "handler.smap[0].data"
   ]
  },
  {
   "cell_type": "code",
   "execution_count": null,
   "metadata": {
    "collapsed": true
   },
   "outputs": [],
   "source": []
  }
 ],
 "metadata": {
  "kernelspec": {
   "display_name": "Python 3",
   "language": "python",
   "name": "python3"
  },
  "language_info": {
   "codemirror_mode": {
    "name": "ipython",
    "version": 3
   },
   "file_extension": ".py",
   "mimetype": "text/x-python",
   "name": "python",
   "nbconvert_exporter": "python",
   "pygments_lexer": "ipython3",
   "version": "3.6.0"
  }
 },
 "nbformat": 4,
 "nbformat_minor": 2
}
