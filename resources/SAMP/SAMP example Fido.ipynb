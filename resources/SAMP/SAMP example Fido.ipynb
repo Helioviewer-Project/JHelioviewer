{
 "cells": [
  {
   "cell_type": "code",
   "execution_count": null,
   "metadata": {
    "collapsed": false
   },
   "outputs": [],
   "source": [
    "import sunpy\n",
    "import sunpy.map\n",
    "from sunpy.net import Fido, attrs\n",
    "\n",
    "import datetime\n",
    "from datetime import datetime\n",
    "from datetime import timedelta\n",
    "\n",
    "import numpy as np\n",
    "import matplotlib as mpl\n",
    "import matplotlib.pyplot as plt\n",
    "\n",
    "%matplotlib inline\n",
    "\n",
    "import astropy.units as u\n",
    "from astropy.io import fits\n",
    "from astropy.samp import SAMPIntegratedClient\n",
    "from astropy.utils.console import ProgressBar\n",
    "from astropy.coordinates import SkyCoord\n",
    "\n",
    "from functools import reduce"
   ]
  },
  {
   "cell_type": "markdown",
   "metadata": {},
   "source": [
    "### Config\n",
    "You can change the location where the fits-file will be downloaded by changing the value of the following variable"
   ]
  },
  {
   "cell_type": "code",
   "execution_count": null,
   "metadata": {
    "collapsed": true
   },
   "outputs": [],
   "source": [
    "downloadPath = '/Data/{source}/{instrument}/{time.start}/{file}'"
   ]
  },
  {
   "cell_type": "markdown",
   "metadata": {},
   "source": [
    "### Setup\n",
    "The following Cells contain used classes as well as the code responsible for connecting to a SAMP-Hub.\n",
    "\n",
    "They need only to be executed once before JHelioviewer sends a SAMP-Message."
   ]
  },
  {
   "cell_type": "code",
   "execution_count": null,
   "metadata": {
    "collapsed": true
   },
   "outputs": [],
   "source": [
    "def parseDate(dateString):\n",
    "    DATE_TIME_FORMAT_NO_MS = '%Y-%m-%dT%H:%M:%S'\n",
    "    DATE_TIME_FORMAT = '%Y-%m-%dT%H:%M:%S.%f'\n",
    "    \n",
    "    try:\n",
    "        timestamp = datetime.strptime(dateString, DATE_TIME_FORMAT)\n",
    "    except ValueError:\n",
    "        timestamp = datetime.strptime(dateString, DATE_TIME_FORMAT_NO_MS)\n",
    "    \n",
    "    return timestamp"
   ]
  },
  {
   "cell_type": "code",
   "execution_count": null,
   "metadata": {
    "collapsed": true
   },
   "outputs": [],
   "source": [
    "class CutoutInfo(object):\n",
    "    def __init__(self, enabled, x_center=0, y_center=0, w=2458, h=2458):\n",
    "        self.enabled = enabled\n",
    "        self.x0 = (x_center - w/2) * u.arcsec\n",
    "        self.y0 = (y_center - h/2) * u.arcsec\n",
    "        self.x1 = (x_center + w/2) * u.arcsec\n",
    "        self.y1 = (y_center + h/2) * u.arcsec"
   ]
  },
  {
   "cell_type": "code",
   "execution_count": null,
   "metadata": {
    "collapsed": false
   },
   "outputs": [],
   "source": [
    "class LayerHandler(object):\n",
    "    def __init__(self, timestamp, observatory, instrument, detector, measurement, cutout):        \n",
    "        self.timestamp = parseDate(timestamp)\n",
    "        self.observatory = observatory\n",
    "        self.instrument = instrument\n",
    "        self.detector = detector\n",
    "        self.measurement = measurement\n",
    "        self.cutout = cutout\n",
    "        self.dataDownloaded = False\n",
    "        \n",
    "        self.__attr = self.__createAttr()\n",
    "    \n",
    "    def __createAttr(self):\n",
    "        if(self.instrument == 'AIA'\n",
    "           or self.instrument == 'EIT'\n",
    "           or self.instrument == 'SWAP'):\n",
    "            return self.__createWaveAttr()\n",
    "        \n",
    "        elif(self.instrument == 'XRT'):\n",
    "            #TODO: Filter wheel not supported yet\n",
    "            return self.__createNoneAttr()\n",
    "        \n",
    "        elif(self.instrument == 'HMI'):\n",
    "            return self.__createPhysobsAttr()\n",
    "        \n",
    "        elif(self.instrument == 'LASCO'):\n",
    "            return self.__createDetectorAttr()\n",
    "            \n",
    "        elif(self.instrument == 'MDI'):\n",
    "            return self.__createPhysobsAttr()\n",
    "           \n",
    "        elif(self.instrument == 'SECCHI' \n",
    "             and self.detector == 'EUVI'):\n",
    "            return self.__createFullAttr()\n",
    "        \n",
    "        elif(self.instrument == 'SECCHI'):\n",
    "            return self.__createSecchiAttr()\n",
    "        \n",
    "        elif(self.instrument == 'TRACE'):\n",
    "            #TODO: trace\n",
    "            return self.__createWaveAttr()\n",
    "        \n",
    "        elif(self.instrument == 'SXT'):\n",
    "            #TODO: sxt\n",
    "            return self.__createNoneAttr()\n",
    "            \n",
    "            \n",
    "    def __createWaveAttr(self):\n",
    "        wave = int(self.measurement)\n",
    "        return (attrs.Instrument(self.instrument)\n",
    "                & attrs.Wavelength(wave * u.AA, wave * u.AA))\n",
    "    \n",
    "    def __createDetectorAttr(self):\n",
    "        return (attrs.Instrument(self.instrument)\n",
    "               & attrs.vso.Detector(self.detector))\n",
    "    \n",
    "    def __createPhysobsAttr(self):\n",
    "        obs = self.measurement\n",
    "        #TODO: \n",
    "        if (obs == 'CONTINUUM INTENSITY' or obs == 'FD_Continuum'):\n",
    "            obs = 'intensity'\n",
    "        elif (obs == 'MAGNETOGRAM' \n",
    "              or obs == 'FD_Magnetogram' \n",
    "              or obs == 'FD_Magnetogram_Sum'):\n",
    "            obs = 'LOS_magnetic_field'\n",
    "        return (attrs.Instrument(self.instrument)\n",
    "               & attrs.vso.Physobs(obs))\n",
    "    \n",
    "    def __createSecchiAttr(self):\n",
    "        return (attrs.Instrument(self.instrument)\n",
    "               & attrs.vso.Source(self.observatory)\n",
    "               & attrs.vso.Detector(self.detector))\n",
    "    \n",
    "    def __createFullAttr(self):\n",
    "        wave = int(self.measurement)\n",
    "        return (attrs.Instrument(self.instrument)\n",
    "               & attrs.vso.Source(self.observatory)\n",
    "               & attrs.vso.Detector(self.detector)\n",
    "               & attrs.Wavelength(wave * u.AA, wave * u.AA))\n",
    "    \n",
    "    def __createNoneAttr(self):\n",
    "        return attrs.Instrument(self.instrument)\n",
    "    \n",
    "    def createQuery(self, start, end):\n",
    "        self.dataDownloaded = False\n",
    "        self.__fullAttr = attrs.Time(start, end) & self.__attr\n",
    "        self.query = Fido.search(self.__fullAttr)\n",
    "        return self.query\n",
    "        \n",
    "    def createQueryDelta(self, deltaFrom=timedelta(minutes = 2), deltaTo=timedelta(seconds=0)):        \n",
    "        self.createQuery(self.timestamp - deltaFrom, self.timestamp + deltaTo)\n",
    "        return self.query\n",
    "    \n",
    "    def __queryLength(self):\n",
    "        return sum(len(elem) for elem in self.query)\n",
    "    \n",
    "    def createQuerySingleResult(self):          \n",
    "        deltaFromCur = timedelta(minutes = 2)\n",
    "        deltaFromMin = timedelta(seconds = 0)\n",
    "        \n",
    "        # images are usually stored all 3 minutes\n",
    "        # unless something interesting happens, then it is every 3 seconds\n",
    "        self.createQueryDelta(deltaFrom = deltaFromCur)\n",
    "        \n",
    "        if(self.__queryLength() > 1):\n",
    "            self.createQueryDelta(deltaFrom = timedelta(seconds=5))\n",
    "            if(len(self.query) != 1):\n",
    "                deltaFromCur = timedelta(seconds=5)\n",
    "        \n",
    "        counter = 0\n",
    "        while(self.__queryLength() != 1 and counter <= 10):\n",
    "            \n",
    "            if(self.__queryLength() < 1):\n",
    "                deltaFromMin = deltaFromCur\n",
    "                deltaFromCur = deltaFromCur * 2\n",
    "            else:\n",
    "                deltaFromCur = (deltaFromMin + deltaFromCur)/2\n",
    "            self.createQueryDelta(deltaFrom = deltaFromCur)\n",
    "            counter = counter+1\n",
    "        return self.query\n",
    "    \n",
    "    def createQuerySample(self, start, end, cadence):\n",
    "        self.dataDownloaded = False\n",
    "        self.__fullAttr = attrs.Time(start, end) & self.__attr & attrs.vso.Sample(cadence)\n",
    "        self.query = Fido.search(self.__fullAttr)\n",
    "        return self.query\n",
    "        \n",
    "    \n",
    "    def showQuery(self):\n",
    "        print(self.query)\n",
    "    \n",
    "    def downloadData(self):\n",
    "        self.files = Fido.fetch(self.query, path=downloadPath)\n",
    "        self.dataDownloaded = True\n",
    "    \n",
    "    def showData(self, figsize=(15,15)):\n",
    "        if not self.dataDownloaded:\n",
    "            self.downloadData()\n",
    "        \n",
    "        self.smap = list()\n",
    "        \n",
    "        if(self.cutout.enabled):\n",
    "            self.submap = list()\n",
    "                    \n",
    "        for file in self.files:\n",
    "            try:\n",
    "                curMap = sunpy.map.Map(file)            \n",
    "            except Exception as err:\n",
    "                print(\"File could not be read as sunpy.map.Map(file)\")\n",
    "                print(file)\n",
    "                print(err)\n",
    "            else:\n",
    "                self.smap.append(curMap)\n",
    "\n",
    "                #XRT and LASCO doesnt seem to work with cutout!\n",
    "                if(self.cutout.enabled and self.instrument != 'XRT' and self.instrument != 'LASCO'):\n",
    "                    try:\n",
    "                        p0 = SkyCoord(self.cutout.x0, self.cutout.y0, frame=curMap.coordinate_frame)\n",
    "                        p1 = SkyCoord(self.cutout.x1, self.cutout.y1, frame=curMap.coordinate_frame)\n",
    "                        curMap = curMap.submap(p0, p1)\n",
    "                        self.submap.append(curMap)\n",
    "                    except Exception as err:\n",
    "                        print(\"Creating cutout failed for the instrument '\" + self.__instrument + \"'\")\n",
    "\n",
    "                plt.figure(figsize=figsize)\n",
    "\n",
    "                curMap.plot()\n",
    "                curMap.draw_limb()\n",
    "\n",
    "                plt.colorbar()\n",
    "                plt.show()"
   ]
  },
  {
   "cell_type": "code",
   "execution_count": null,
   "metadata": {
    "collapsed": false
   },
   "outputs": [],
   "source": [
    "class VSOHandler(object):\n",
    "    def __init__(self, start, end, timestamp, cadence, layers):\n",
    "        self.timestamp = parseDate(timestamp)\n",
    "        self.start     = parseDate(start)\n",
    "        self.end       = parseDate(end)\n",
    "        self.cadence   = cadence\n",
    "        self.layers    = layers\n",
    "    \n",
    "    def createQuery(self):\n",
    "        with ProgressBar(len(self.layers), True) as bar:\n",
    "            for layer in self.layers:\n",
    "                layer.createQuery(self.start, self.end)\n",
    "                bar.update()\n",
    "        \n",
    "    def createQueryDelta(self, deltaFrom=timedelta(minutes=2), deltaTo=timedelta(seconds=0)):\n",
    "        with ProgressBar(len(self.layers), True) as bar:\n",
    "            for layer in self.layers:\n",
    "                layer.createQueryDelta(deltaFrom, deltaTo)\n",
    "                bar.update()\n",
    "    \n",
    "    def createQuerySingleResult(self):\n",
    "        with ProgressBar(len(self.layers), True) as bar:\n",
    "            for layer in self.layers:\n",
    "                layer.createQuerySingleResult()\n",
    "                bar.update()\n",
    "    \n",
    "    def createQuerySample(self, cadence=None):\n",
    "        if cadence is None:\n",
    "            cadence = (int(self.cadence)/1000)*u.second\n",
    "        \n",
    "        with ProgressBar(len(self.layers), True) as bar:\n",
    "            for layer in self.layers:\n",
    "                layer.createQuerySample(self.start, self.end, cadence)\n",
    "                bar.update()\n",
    "    \n",
    "    def showQuery(self):              \n",
    "        attrs = reduce(lambda x, y: x|y, map(lambda z: z._LayerHandler__fullAttr, self.layers))\n",
    "        return Fido.search(attrs)\n",
    "    \n",
    "    def downloadData(self):\n",
    "        with ProgressBar(len(self.layers), True) as bar:\n",
    "            for layer in self.layers:\n",
    "                layer.downloadData()\n",
    "                bar.update()\n",
    "    \n",
    "    def showData(self, figsize=(15, 15)):\n",
    "        with ProgressBar(len(self.layers), True) as bar:   \n",
    "            for layer in self.layers:\n",
    "                layer.showData(figsize)\n",
    "                bar.update()"
   ]
  },
  {
   "cell_type": "code",
   "execution_count": null,
   "metadata": {
    "collapsed": false
   },
   "outputs": [],
   "source": [
    "class Receiver(object):\n",
    "    def __init__(self, client):\n",
    "        self.client = client\n",
    "        self.received = False\n",
    "    def receive_call(self, private_key, sender_id, msg_id, mtype, params, extra):\n",
    "        self.params = params\n",
    "        self.received = True\n",
    "        self.client.reply(msg_id, {\"samp.status\": \"samp.ok\", \"samp.result\": {}})\n",
    "    def receive_notification(self, private_key, sender_id, mtype, params, extra):\n",
    "        self.params = params\n",
    "        self.received = True\n",
    "    \n",
    "    def createHandler(self):\n",
    "        if self.received:\n",
    "            params = self.params\n",
    "            self.received = False\n",
    "            \n",
    "            timestamp = params['timestamp']\n",
    "            start = params['start']\n",
    "            end = params['end']\n",
    "            cadence = params['cadence']\n",
    "            layers = list()\n",
    "            \n",
    "            cutoutEnabled = bool(params['cutout.set'])\n",
    "            if cutoutEnabled:\n",
    "                cutout = CutoutInfo(cutoutEnabled, \n",
    "                                    float(params['cutout.x0']),\n",
    "                                    float(params['cutout.y0']),\n",
    "                                    float(params['cutout.w']),\n",
    "                                    float(params['cutout.h']))\n",
    "            else:\n",
    "                cutout = CutoutInfo(cutoutEnabled)\n",
    "            \n",
    "            for layerInfo in params['layers']:\n",
    "                observatory = layerInfo['observatory']\n",
    "                instrument = layerInfo['instrument']\n",
    "                detector = layerInfo['detector']\n",
    "                measurement = layerInfo['measurement']\n",
    "                layerTimeStamp = layerInfo['timestamp']\n",
    "                layers.append(LayerHandler(layerTimeStamp, observatory, instrument, detector, measurement, cutout))\n",
    "            \n",
    "            handler = VSOHandler(start, end, timestamp, cadence, layers)\n",
    "            \n",
    "            return handler"
   ]
  },
  {
   "cell_type": "markdown",
   "metadata": {},
   "source": [
    "The next cell connects to an active Hub (see http://docs.astropy.org/en/stable/vo/samp/example_table_image.html)"
   ]
  },
  {
   "cell_type": "code",
   "execution_count": null,
   "metadata": {
    "collapsed": false
   },
   "outputs": [],
   "source": [
    "client = SAMPIntegratedClient()\n",
    "client.connect()\n",
    "\n",
    "r = Receiver(client)\n",
    "client.bind_receive_call(\"jhv.vso.load\", r.receive_call)\n",
    "client.bind_receive_notification(\"jhv.vso.load\", r.receive_notification)"
   ]
  },
  {
   "cell_type": "markdown",
   "metadata": {},
   "source": [
    "### Downloading the data\n",
    "When a message is sent over SAMP, run the following to create a new Handler with the parameters given over SAMP.\n",
    "\n",
    "A Handler object named handler will be created which offers several utility methods to create a VSOQuery and download the data.\n",
    "* __handler.createQuerySingleResult()__   \n",
    "  Creates a VSO-Query to only retrieve the currently show images in JHelioviewer for each active Layer\n",
    "* __handler.createQuery()__   \n",
    "  Creates a VSO-Query for the complete timespan visible in JHelioviewer\n",
    "* __handler.createQuerySample(cadence)__\n",
    "  Creates a VSO-Query for the complete timespan visible in Jhelioviewer, but only provide an image every *cadence* seconds. If *cadence* is not provided, the same cadence as in JHelioviewer is used.\n",
    "  \n",
    "* __handler.showQuery()__   \n",
    "  Can be used to check the query result before downloading the actual data\n",
    "* __handler.downloadData()__   \n",
    "  Downloads the data found by the current query\n",
    "* __handler.showData(figsize)__   \n",
    "  Downloads and shows the data by the current query\n",
    "\n",
    "The start, endtime and timestamp can also be read on the handler."
   ]
  },
  {
   "cell_type": "code",
   "execution_count": null,
   "metadata": {
    "collapsed": false
   },
   "outputs": [],
   "source": [
    "# We test every 0.1s to see if the hub has sent a message\n",
    "import time\n",
    "while True:\n",
    "    time.sleep(0.1)\n",
    "    if r.received:\n",
    "        handler = r.createHandler()\n",
    "        break"
   ]
  },
  {
   "cell_type": "code",
   "execution_count": null,
   "metadata": {
    "collapsed": false
   },
   "outputs": [],
   "source": [
    "print(\"Start:\\t\\t\", handler.start)\n",
    "print(\"Timestamp:\\t\", handler.timestamp)\n",
    "print(\"End:\\t\\t\", handler.end)"
   ]
  },
  {
   "cell_type": "markdown",
   "metadata": {},
   "source": [
    "First, we create a Query for fetching only the actual data for each Layer and check the results afterwards"
   ]
  },
  {
   "cell_type": "code",
   "execution_count": null,
   "metadata": {
    "collapsed": false
   },
   "outputs": [],
   "source": [
    "#handler.createQuerySample()\n",
    "handler.createQuerySingleResult()"
   ]
  },
  {
   "cell_type": "code",
   "execution_count": null,
   "metadata": {
    "collapsed": false
   },
   "outputs": [],
   "source": [
    "handler.showQuery()"
   ]
  },
  {
   "cell_type": "markdown",
   "metadata": {},
   "source": [
    "The data can then be downloaded and displayed with showData()."
   ]
  },
  {
   "cell_type": "code",
   "execution_count": null,
   "metadata": {
    "collapsed": false
   },
   "outputs": [],
   "source": [
    "#handler.downloadData()\n",
    "handler.showData(figsize=(7, 7))"
   ]
  },
  {
   "cell_type": "markdown",
   "metadata": {},
   "source": [
    "### Using the data\n",
    "For each Layer that was visible in JHelioviewer, a corresponding Layer is created on the handler. They can be accessed indiviualy and provides the same method as the handler. Additionaly, the actual data as well as metadata is accessible.\n",
    "\n",
    "The metadata can easily be accessed for each layer"
   ]
  },
  {
   "cell_type": "code",
   "execution_count": null,
   "metadata": {
    "collapsed": false
   },
   "outputs": [],
   "source": [
    "layer = handler.layers[0]\n",
    "print(\"Timestamp:\\t\", layer.timestamp)\n",
    "print(\"Observatory:\\t\", layer.observatory)\n",
    "print(\"Instrument:\\t\", layer.instrument)\n",
    "print(\"Detector:\\t\", layer.detector)\n",
    "print(\"Measurement:\\t\", layer.measurement)"
   ]
  },
  {
   "cell_type": "markdown",
   "metadata": {},
   "source": [
    "The data itself for each layer is available as a sunpy.Map in a list named smap. The data itself for each layer is available as a sunpy.Map in a list named smap."
   ]
  },
  {
   "cell_type": "code",
   "execution_count": null,
   "metadata": {
    "collapsed": false
   },
   "outputs": [],
   "source": [
    "print(\"Map:\")\n",
    "print(layer.smap[0])\n",
    "print(\"Submap:\")\n",
    "print(layer.submap[0])"
   ]
  },
  {
   "cell_type": "code",
   "execution_count": null,
   "metadata": {
    "collapsed": true
   },
   "outputs": [],
   "source": []
  }
 ],
 "metadata": {
  "kernelspec": {
   "display_name": "Python [conda root]",
   "language": "python",
   "name": "conda-root-py"
  },
  "language_info": {
   "codemirror_mode": {
    "name": "ipython",
    "version": 3
   },
   "file_extension": ".py",
   "mimetype": "text/x-python",
   "name": "python",
   "nbconvert_exporter": "python",
   "pygments_lexer": "ipython3",
   "version": "3.6.0"
  }
 },
 "nbformat": 4,
 "nbformat_minor": 2
}
